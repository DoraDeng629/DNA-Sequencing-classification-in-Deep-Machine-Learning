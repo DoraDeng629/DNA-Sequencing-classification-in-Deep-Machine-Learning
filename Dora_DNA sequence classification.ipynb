{
 "cells": [
  {
   "cell_type": "markdown",
   "metadata": {},
   "source": [
    "# DNA Sequencing classification in Machine Learning¶\n",
    "In this notebook, I will apply a classification model that can predict a gene's function based on the DNA sequence of the coding sequence alone"
   ]
  },
  {
   "cell_type": "code",
   "execution_count": 1,
   "metadata": {},
   "outputs": [],
   "source": [
    "import numpy as np\n",
    "import pandas as pd\n",
    "import matplotlib.pyplot as plt\n",
    "%matplotlib inline "
   ]
  },
  {
   "cell_type": "code",
   "execution_count": 2,
   "metadata": {},
   "outputs": [
    {
     "data": {
      "text/html": [
       "<div>\n",
       "<style scoped>\n",
       "    .dataframe tbody tr th:only-of-type {\n",
       "        vertical-align: middle;\n",
       "    }\n",
       "\n",
       "    .dataframe tbody tr th {\n",
       "        vertical-align: top;\n",
       "    }\n",
       "\n",
       "    .dataframe thead th {\n",
       "        text-align: right;\n",
       "    }\n",
       "</style>\n",
       "<table border=\"1\" class=\"dataframe\">\n",
       "  <thead>\n",
       "    <tr style=\"text-align: right;\">\n",
       "      <th></th>\n",
       "      <th>sequence</th>\n",
       "      <th>class</th>\n",
       "    </tr>\n",
       "  </thead>\n",
       "  <tbody>\n",
       "    <tr>\n",
       "      <th>0</th>\n",
       "      <td>ATGCCCCAACTAAATACTACCGTATGGCCCACCATAATTACCCCCA...</td>\n",
       "      <td>4</td>\n",
       "    </tr>\n",
       "    <tr>\n",
       "      <th>1</th>\n",
       "      <td>ATGAACGAAAATCTGTTCGCTTCATTCATTGCCCCCACAATCCTAG...</td>\n",
       "      <td>4</td>\n",
       "    </tr>\n",
       "    <tr>\n",
       "      <th>2</th>\n",
       "      <td>ATGTGTGGCATTTGGGCGCTGTTTGGCAGTGATGATTGCCTTTCTG...</td>\n",
       "      <td>3</td>\n",
       "    </tr>\n",
       "    <tr>\n",
       "      <th>3</th>\n",
       "      <td>ATGTGTGGCATTTGGGCGCTGTTTGGCAGTGATGATTGCCTTTCTG...</td>\n",
       "      <td>3</td>\n",
       "    </tr>\n",
       "    <tr>\n",
       "      <th>4</th>\n",
       "      <td>ATGCAACAGCATTTTGAATTTGAATACCAGACCAAAGTGGATGGTG...</td>\n",
       "      <td>3</td>\n",
       "    </tr>\n",
       "  </tbody>\n",
       "</table>\n",
       "</div>"
      ],
      "text/plain": [
       "                                            sequence  class\n",
       "0  ATGCCCCAACTAAATACTACCGTATGGCCCACCATAATTACCCCCA...      4\n",
       "1  ATGAACGAAAATCTGTTCGCTTCATTCATTGCCCCCACAATCCTAG...      4\n",
       "2  ATGTGTGGCATTTGGGCGCTGTTTGGCAGTGATGATTGCCTTTCTG...      3\n",
       "3  ATGTGTGGCATTTGGGCGCTGTTTGGCAGTGATGATTGCCTTTCTG...      3\n",
       "4  ATGCAACAGCATTTTGAATTTGAATACCAGACCAAAGTGGATGGTG...      3"
      ]
     },
     "execution_count": 2,
     "metadata": {},
     "output_type": "execute_result"
    }
   ],
   "source": [
    "human_data = pd.read_table('human_data.txt')\n",
    "human_data.head()"
   ]
  },
  {
   "cell_type": "markdown",
   "metadata": {},
   "source": [
    "### *We have some data for human DNA sequence coding regions and a class label. We also have data for Chimpanzee and a more divergent species, the dog.*"
   ]
  },
  {
   "cell_type": "code",
   "execution_count": 34,
   "metadata": {},
   "outputs": [
    {
     "data": {
      "text/html": [
       "<div>\n",
       "<style scoped>\n",
       "    .dataframe tbody tr th:only-of-type {\n",
       "        vertical-align: middle;\n",
       "    }\n",
       "\n",
       "    .dataframe tbody tr th {\n",
       "        vertical-align: top;\n",
       "    }\n",
       "\n",
       "    .dataframe thead th {\n",
       "        text-align: right;\n",
       "    }\n",
       "</style>\n",
       "<table border=\"1\" class=\"dataframe\">\n",
       "  <thead>\n",
       "    <tr style=\"text-align: right;\">\n",
       "      <th></th>\n",
       "      <th>sequence</th>\n",
       "      <th>class</th>\n",
       "    </tr>\n",
       "  </thead>\n",
       "  <tbody>\n",
       "    <tr>\n",
       "      <th>0</th>\n",
       "      <td>ATGCCCCAACTAAATACCGCCGTATGACCCACCATAATTACCCCCA...</td>\n",
       "      <td>4</td>\n",
       "    </tr>\n",
       "    <tr>\n",
       "      <th>1</th>\n",
       "      <td>ATGAACGAAAATCTATTCGCTTCATTCGCTGCCCCCACAATCCTAG...</td>\n",
       "      <td>4</td>\n",
       "    </tr>\n",
       "    <tr>\n",
       "      <th>2</th>\n",
       "      <td>ATGGCCTCGCGCTGGTGGCGGTGGCGACGCGGCTGCTCCTGGAGGC...</td>\n",
       "      <td>4</td>\n",
       "    </tr>\n",
       "    <tr>\n",
       "      <th>3</th>\n",
       "      <td>ATGGCCTCGCGCTGGTGGCGGTGGCGACGCGGCTGCTCCTGGAGGC...</td>\n",
       "      <td>4</td>\n",
       "    </tr>\n",
       "    <tr>\n",
       "      <th>4</th>\n",
       "      <td>ATGGGCAGCGCCAGCCCGGGTCTGAGCAGCGTGTCCCCCAGCCACC...</td>\n",
       "      <td>6</td>\n",
       "    </tr>\n",
       "  </tbody>\n",
       "</table>\n",
       "</div>"
      ],
      "text/plain": [
       "                                            sequence  class\n",
       "0  ATGCCCCAACTAAATACCGCCGTATGACCCACCATAATTACCCCCA...      4\n",
       "1  ATGAACGAAAATCTATTCGCTTCATTCGCTGCCCCCACAATCCTAG...      4\n",
       "2  ATGGCCTCGCGCTGGTGGCGGTGGCGACGCGGCTGCTCCTGGAGGC...      4\n",
       "3  ATGGCCTCGCGCTGGTGGCGGTGGCGACGCGGCTGCTCCTGGAGGC...      4\n",
       "4  ATGGGCAGCGCCAGCCCGGGTCTGAGCAGCGTGTCCCCCAGCCACC...      6"
      ]
     },
     "execution_count": 34,
     "metadata": {},
     "output_type": "execute_result"
    }
   ],
   "source": [
    "chimp_data = pd.read_table('chimp_data.txt')\n",
    "\n",
    "chimp_data.head()\n"
   ]
  },
  {
   "cell_type": "code",
   "execution_count": 33,
   "metadata": {},
   "outputs": [
    {
     "data": {
      "text/html": [
       "<div>\n",
       "<style scoped>\n",
       "    .dataframe tbody tr th:only-of-type {\n",
       "        vertical-align: middle;\n",
       "    }\n",
       "\n",
       "    .dataframe tbody tr th {\n",
       "        vertical-align: top;\n",
       "    }\n",
       "\n",
       "    .dataframe thead th {\n",
       "        text-align: right;\n",
       "    }\n",
       "</style>\n",
       "<table border=\"1\" class=\"dataframe\">\n",
       "  <thead>\n",
       "    <tr style=\"text-align: right;\">\n",
       "      <th></th>\n",
       "      <th>sequence</th>\n",
       "      <th>class</th>\n",
       "    </tr>\n",
       "  </thead>\n",
       "  <tbody>\n",
       "    <tr>\n",
       "      <th>0</th>\n",
       "      <td>ATGCCACAGCTAGATACATCCACCTGATTTATTATAATCTTTTCAA...</td>\n",
       "      <td>4</td>\n",
       "    </tr>\n",
       "    <tr>\n",
       "      <th>1</th>\n",
       "      <td>ATGAACGAAAATCTATTCGCTTCTTTCGCTGCCCCCTCAATAATAG...</td>\n",
       "      <td>4</td>\n",
       "    </tr>\n",
       "    <tr>\n",
       "      <th>2</th>\n",
       "      <td>ATGGAAACACCCTTCTACGGCGATGAGGCGCTGAGCGGCCTGGGCG...</td>\n",
       "      <td>6</td>\n",
       "    </tr>\n",
       "    <tr>\n",
       "      <th>3</th>\n",
       "      <td>ATGTGCACTAAAATGGAACAGCCCTTCTACCACGACGACTCATACG...</td>\n",
       "      <td>6</td>\n",
       "    </tr>\n",
       "    <tr>\n",
       "      <th>4</th>\n",
       "      <td>ATGAGCCGGCAGCTAAACAGAAGCCAGAACTGCTCCTTCAGTGACG...</td>\n",
       "      <td>0</td>\n",
       "    </tr>\n",
       "  </tbody>\n",
       "</table>\n",
       "</div>"
      ],
      "text/plain": [
       "                                            sequence  class\n",
       "0  ATGCCACAGCTAGATACATCCACCTGATTTATTATAATCTTTTCAA...      4\n",
       "1  ATGAACGAAAATCTATTCGCTTCTTTCGCTGCCCCCTCAATAATAG...      4\n",
       "2  ATGGAAACACCCTTCTACGGCGATGAGGCGCTGAGCGGCCTGGGCG...      6\n",
       "3  ATGTGCACTAAAATGGAACAGCCCTTCTACCACGACGACTCATACG...      6\n",
       "4  ATGAGCCGGCAGCTAAACAGAAGCCAGAACTGCTCCTTCAGTGACG...      0"
      ]
     },
     "execution_count": 33,
     "metadata": {},
     "output_type": "execute_result"
    }
   ],
   "source": [
    "dog_data = pd.read_table('dog_data.txt')\n",
    "dog_data.head()"
   ]
  },
  {
   "cell_type": "markdown",
   "metadata": {},
   "source": [
    "### Treating DNA sequence as a \"language\", otherwise known as k-mer counting\n",
    "A challenge that remains is that none of these above methods results in vectors of uniform length, and that is a requirement for feeding data to a classification or regression algorithm. So with the above methods you have to resort to things like truncating sequences or padding with \"n\" or \"0\" to get vectors of uniform length.\n",
    "\n",
    "DNA and protein sequences can be viewed metaphorically as the language of life. The language encodes instructions as well as function for the molecules that are found in all life forms. The sequence language analogy continues with the genome as the book, subsequences (genes and gene families) are sentences and chapters, k-mers and peptides (motifs) are words, and nucleotide bases and amino acids are the alphabet. Since the analogy seems so apt, it stands to reason that the amazing work done in the natural language processing field should also apply to the natural language of DNA and protein sequences.\n",
    "\n",
    "The method I use here is simple and easy. I first take the long biological sequence and break it down into k-mer length overlapping “words”. For example, if I use \"words\" of length 6 (hexamers), “ATGCATGCA” becomes: ‘ATGCAT’, ‘TGCATG’, ‘GCATGC’, ‘CATGCA’. Hence our example sequence is broken down into 4 hexamer words.\n",
    "\n",
    "Here I am using hexamer “words” but that is arbitrary and word length can be tuned to suit the particular situation. The word length and amount of overlap need to be determined empirically for any given application.\n",
    "\n",
    "In genomics, we refer to these types of manipulations as \"k-mer counting\", or counting the occurances of each possible k-mer sequence. There are specialized tools for this, but the Python natural language processing tools make it supe easy.\n",
    "\n",
    "Here is a function that can be used to convert any sequence (string) to overlapping k-mer words:\n",
    "\n",
    "### Let's define a function to collect all possible overlapping k-mers of a specified length from any sequence string. We will basically apply the k-mers to the complete sequences.¶"
   ]
  },
  {
   "cell_type": "code",
   "execution_count": 6,
   "metadata": {},
   "outputs": [],
   "source": [
    "# function to convert sequence strings into k-mer words, default size = 6 (hexamer words)\n",
    "def getKmers(sequence, size=6):\n",
    "    return [sequence[x:x+size].lower() for x in range(len(sequence) - size + 1)]"
   ]
  },
  {
   "cell_type": "markdown",
   "metadata": {},
   "source": [
    "### Now we can convert our training data sequences into short overlapping k-mers of legth 6. Lets do that for each species of data we have using our getKmers function.¶"
   ]
  },
  {
   "cell_type": "code",
   "execution_count": 7,
   "metadata": {},
   "outputs": [],
   "source": [
    "human_data['words'] = human_data.apply(lambda x: getKmers(x['sequence']), axis=1)\n",
    "human_data = human_data.drop('sequence', axis=1)\n",
    "chimp_data['words'] = chimp_data.apply(lambda x: getKmers(x['sequence']), axis=1)\n",
    "chimp_data = chimp_data.drop('sequence', axis=1)\n",
    "dog_data['words'] = dog_data.apply(lambda x: getKmers(x['sequence']), axis=1)\n",
    "dog_data = dog_data.drop('sequence', axis=1)"
   ]
  },
  {
   "cell_type": "markdown",
   "metadata": {},
   "source": [
    "### Now, our coding sequence data is changed to lowercase, split up into all possible k-mer words of length 6 and ready for the next step. Let's take a look"
   ]
  },
  {
   "cell_type": "code",
   "execution_count": 8,
   "metadata": {},
   "outputs": [
    {
     "data": {
      "text/html": [
       "<div>\n",
       "<style scoped>\n",
       "    .dataframe tbody tr th:only-of-type {\n",
       "        vertical-align: middle;\n",
       "    }\n",
       "\n",
       "    .dataframe tbody tr th {\n",
       "        vertical-align: top;\n",
       "    }\n",
       "\n",
       "    .dataframe thead th {\n",
       "        text-align: right;\n",
       "    }\n",
       "</style>\n",
       "<table border=\"1\" class=\"dataframe\">\n",
       "  <thead>\n",
       "    <tr style=\"text-align: right;\">\n",
       "      <th></th>\n",
       "      <th>class</th>\n",
       "      <th>words</th>\n",
       "    </tr>\n",
       "  </thead>\n",
       "  <tbody>\n",
       "    <tr>\n",
       "      <th>0</th>\n",
       "      <td>4</td>\n",
       "      <td>[atgccc, tgcccc, gcccca, ccccaa, cccaac, ccaac...</td>\n",
       "    </tr>\n",
       "    <tr>\n",
       "      <th>1</th>\n",
       "      <td>4</td>\n",
       "      <td>[atgaac, tgaacg, gaacga, aacgaa, acgaaa, cgaaa...</td>\n",
       "    </tr>\n",
       "    <tr>\n",
       "      <th>2</th>\n",
       "      <td>3</td>\n",
       "      <td>[atgtgt, tgtgtg, gtgtgg, tgtggc, gtggca, tggca...</td>\n",
       "    </tr>\n",
       "    <tr>\n",
       "      <th>3</th>\n",
       "      <td>3</td>\n",
       "      <td>[atgtgt, tgtgtg, gtgtgg, tgtggc, gtggca, tggca...</td>\n",
       "    </tr>\n",
       "    <tr>\n",
       "      <th>4</th>\n",
       "      <td>3</td>\n",
       "      <td>[atgcaa, tgcaac, gcaaca, caacag, aacagc, acagc...</td>\n",
       "    </tr>\n",
       "  </tbody>\n",
       "</table>\n",
       "</div>"
      ],
      "text/plain": [
       "   class                                              words\n",
       "0      4  [atgccc, tgcccc, gcccca, ccccaa, cccaac, ccaac...\n",
       "1      4  [atgaac, tgaacg, gaacga, aacgaa, acgaaa, cgaaa...\n",
       "2      3  [atgtgt, tgtgtg, gtgtgg, tgtggc, gtggca, tggca...\n",
       "3      3  [atgtgt, tgtgtg, gtgtgg, tgtggc, gtggca, tggca...\n",
       "4      3  [atgcaa, tgcaac, gcaaca, caacag, aacagc, acagc..."
      ]
     },
     "execution_count": 8,
     "metadata": {},
     "output_type": "execute_result"
    }
   ],
   "source": [
    "human_data.head()"
   ]
  },
  {
   "cell_type": "code",
   "execution_count": 9,
   "metadata": {},
   "outputs": [
    {
     "data": {
      "text/html": [
       "<div>\n",
       "<style scoped>\n",
       "    .dataframe tbody tr th:only-of-type {\n",
       "        vertical-align: middle;\n",
       "    }\n",
       "\n",
       "    .dataframe tbody tr th {\n",
       "        vertical-align: top;\n",
       "    }\n",
       "\n",
       "    .dataframe thead th {\n",
       "        text-align: right;\n",
       "    }\n",
       "</style>\n",
       "<table border=\"1\" class=\"dataframe\">\n",
       "  <thead>\n",
       "    <tr style=\"text-align: right;\">\n",
       "      <th></th>\n",
       "      <th>class</th>\n",
       "      <th>words</th>\n",
       "    </tr>\n",
       "  </thead>\n",
       "  <tbody>\n",
       "    <tr>\n",
       "      <th>0</th>\n",
       "      <td>4</td>\n",
       "      <td>[atgcca, tgccac, gccaca, ccacag, cacagc, acagc...</td>\n",
       "    </tr>\n",
       "    <tr>\n",
       "      <th>1</th>\n",
       "      <td>4</td>\n",
       "      <td>[atgaac, tgaacg, gaacga, aacgaa, acgaaa, cgaaa...</td>\n",
       "    </tr>\n",
       "    <tr>\n",
       "      <th>2</th>\n",
       "      <td>6</td>\n",
       "      <td>[atggaa, tggaaa, ggaaac, gaaaca, aaacac, aacac...</td>\n",
       "    </tr>\n",
       "    <tr>\n",
       "      <th>3</th>\n",
       "      <td>6</td>\n",
       "      <td>[atgtgc, tgtgca, gtgcac, tgcact, gcacta, cacta...</td>\n",
       "    </tr>\n",
       "    <tr>\n",
       "      <th>4</th>\n",
       "      <td>0</td>\n",
       "      <td>[atgagc, tgagcc, gagccg, agccgg, gccggc, ccggc...</td>\n",
       "    </tr>\n",
       "  </tbody>\n",
       "</table>\n",
       "</div>"
      ],
      "text/plain": [
       "   class                                              words\n",
       "0      4  [atgcca, tgccac, gccaca, ccacag, cacagc, acagc...\n",
       "1      4  [atgaac, tgaacg, gaacga, aacgaa, acgaaa, cgaaa...\n",
       "2      6  [atggaa, tggaaa, ggaaac, gaaaca, aaacac, aacac...\n",
       "3      6  [atgtgc, tgtgca, gtgcac, tgcact, gcacta, cacta...\n",
       "4      0  [atgagc, tgagcc, gagccg, agccgg, gccggc, ccggc..."
      ]
     },
     "execution_count": 9,
     "metadata": {},
     "output_type": "execute_result"
    }
   ],
   "source": [
    "dog_data.head()"
   ]
  },
  {
   "cell_type": "code",
   "execution_count": 10,
   "metadata": {},
   "outputs": [
    {
     "data": {
      "text/html": [
       "<div>\n",
       "<style scoped>\n",
       "    .dataframe tbody tr th:only-of-type {\n",
       "        vertical-align: middle;\n",
       "    }\n",
       "\n",
       "    .dataframe tbody tr th {\n",
       "        vertical-align: top;\n",
       "    }\n",
       "\n",
       "    .dataframe thead th {\n",
       "        text-align: right;\n",
       "    }\n",
       "</style>\n",
       "<table border=\"1\" class=\"dataframe\">\n",
       "  <thead>\n",
       "    <tr style=\"text-align: right;\">\n",
       "      <th></th>\n",
       "      <th>class</th>\n",
       "      <th>words</th>\n",
       "    </tr>\n",
       "  </thead>\n",
       "  <tbody>\n",
       "    <tr>\n",
       "      <th>0</th>\n",
       "      <td>4</td>\n",
       "      <td>[atgccc, tgcccc, gcccca, ccccaa, cccaac, ccaac...</td>\n",
       "    </tr>\n",
       "    <tr>\n",
       "      <th>1</th>\n",
       "      <td>4</td>\n",
       "      <td>[atgaac, tgaacg, gaacga, aacgaa, acgaaa, cgaaa...</td>\n",
       "    </tr>\n",
       "    <tr>\n",
       "      <th>2</th>\n",
       "      <td>4</td>\n",
       "      <td>[atggcc, tggcct, ggcctc, gcctcg, cctcgc, ctcgc...</td>\n",
       "    </tr>\n",
       "    <tr>\n",
       "      <th>3</th>\n",
       "      <td>4</td>\n",
       "      <td>[atggcc, tggcct, ggcctc, gcctcg, cctcgc, ctcgc...</td>\n",
       "    </tr>\n",
       "    <tr>\n",
       "      <th>4</th>\n",
       "      <td>6</td>\n",
       "      <td>[atgggc, tgggca, gggcag, ggcagc, gcagcg, cagcg...</td>\n",
       "    </tr>\n",
       "  </tbody>\n",
       "</table>\n",
       "</div>"
      ],
      "text/plain": [
       "   class                                              words\n",
       "0      4  [atgccc, tgcccc, gcccca, ccccaa, cccaac, ccaac...\n",
       "1      4  [atgaac, tgaacg, gaacga, aacgaa, acgaaa, cgaaa...\n",
       "2      4  [atggcc, tggcct, ggcctc, gcctcg, cctcgc, ctcgc...\n",
       "3      4  [atggcc, tggcct, ggcctc, gcctcg, cctcgc, ctcgc...\n",
       "4      6  [atgggc, tgggca, gggcag, ggcagc, gcagcg, cagcg..."
      ]
     },
     "execution_count": 10,
     "metadata": {},
     "output_type": "execute_result"
    }
   ],
   "source": [
    "chimp_data.head()"
   ]
  },
  {
   "cell_type": "markdown",
   "metadata": {},
   "source": [
    "### Since we are going to use scikit-learn natural language processing tools to do the k-mer counting, we need to now convert the lists of k-mers for each gene into string sentences of words that the count vectorizer can use. We can also make a y variable to hold the class labels. Let's do that now."
   ]
  },
  {
   "cell_type": "code",
   "execution_count": 11,
   "metadata": {},
   "outputs": [],
   "source": [
    "human_texts = list(human_data['words'])\n",
    "for item in range(len(human_texts)):\n",
    "    human_texts[item] = ' '.join(human_texts[item])\n",
    "y_data = human_data.iloc[:, 0].values  "
   ]
  },
  {
   "cell_type": "code",
   "execution_count": 12,
   "metadata": {},
   "outputs": [
    {
     "name": "stdout",
     "output_type": "stream",
     "text": [
      "atgtgt tgtgtg gtgtgg tgtggc gtggca tggcat ggcatt gcattt catttg atttgg tttggg ttgggc tgggcg gggcgc ggcgct gcgctg cgctgt gctgtt ctgttt tgtttg gtttgg tttggc ttggca tggcag ggcagt gcagtg cagtga agtgat gtgatg tgatga gatgat atgatt tgattg gattgc attgcc ttgcct tgcctt gccttt cctttc ctttct tttctg ttctgt tctgtt ctgttc tgttca gttcag ttcagt tcagtg cagtgt agtgtc gtgtct tgtctg gtctga tctgag ctgagt tgagtg gagtgc agtgct gtgcta tgctat gctatg ctatga tatgaa atgaag tgaaga gaagat aagatt agattg gattgc attgca ttgcac tgcaca gcacac cacaca acacag cacaga acagag cagagg agaggt gaggtc aggtcc ggtcca gtccag tccaga ccagat cagatg agatgc gatgca atgcat tgcatt gcattc cattcc attccg ttccgt tccgtt ccgttt cgtttt gttttg ttttga tttgag ttgaga tgagaa gagaat agaatg gaatgt aatgtc atgtca tgtcaa gtcaat tcaatg caatgg aatgga atggat tggata ggatac gataca atacac tacacc acacca caccaa accaac ccaact caactg aactgc actgct ctgctg tgctgc gctgct ctgctt tgcttt gctttg ctttgg tttgga ttggat tggatt ggattt gatttc atttca tttcac ttcacc tcaccg caccgg accggt ccggtt cggttg ggttgg gttggc ttggcg tggcgg ggcggt gcggta cggtag ggtagt gtagtt tagttg agttga gttgac ttgacc tgaccc gacccg acccgc cccgct ccgctg cgctgt gctgtt ctgttt tgtttg gtttgg tttgga ttggaa tggaat ggaatg gaatgc aatgca atgcag tgcagc gcagcc cagcca agccaa gccaat ccaatt caattc aattcg attcga ttcgag tcgagt cgagtg gagtga agtgaa gtgaag tgaaga gaagaa aagaaa agaaat gaaata aaatat aatatc atatcc tatccg atccgt tccgta ccgtat cgtatt gtattt tatttg atttgt tttgtg ttgtgg tgtggc gtggct tggctc ggctct gctctg ctctgt tctgtt ctgtta tgttac gttaca ttacaa tacaat acaatg caatgg aatggt atggtg tggtga ggtgaa gtgaaa tgaaat gaaatc aaatct aatcta atctac tctaca ctacaa tacaac acaacc caacca aaccat accata ccataa cataag ataaga taagaa aagaag agaaga gaagat aagatg agatgc gatgca atgcaa tgcaac gcaaca caacag aacagc acagca cagcat agcatt gcattt catttt attttg ttttga tttgaa ttgaat tgaatt gaattt aatttg atttga tttgaa ttgaat tgaata gaatac aatacc atacca taccag accaga ccagac cagacc agacca gaccaa accaaa ccaaag caaagt aaagtg aagtgg agtgga gtggat tggatg ggatgg gatggt atggtg tggtga ggtgag gtgaga tgagat gagata agataa gataat ataatc taatcc aatcct atcctt tccttc ccttca cttcat ttcatc tcatct catctt atcttt tcttta ctttat tttatg ttatga tatgac atgaca tgacaa gacaaa acaaag caaagg aaagga aaggag aggagg ggagga gaggaa aggaat ggaatt gaattg aattga attgag ttgagc tgagca gagcaa agcaaa gcaaac caaaca aaacaa aacaat acaatt caattt aatttg atttgt tttgta ttgtat tgtatg gtatgt tatgtt atgttg tgttgg gttgga ttggat tggatg ggatgg gatggt atggtg tggtgt ggtgtg gtgtgt tgtgtt gtgttt tgtttg gtttgc tttgca ttgcat tgcatt gcattt catttg atttgt tttgtt ttgttt tgtttt gtttta ttttac tttact ttactg tactgg actgga ctggat tggata ggatac gatact atactg tactgc actgcc ctgcca tgccaa gccaat ccaata caataa aataag ataaga taagaa aagaaa agaaag gaaagt aaagtg aagtgt agtgtt gtgttc tgttcc gttcct ttcctg tcctgg cctggg ctgggt tgggta gggtag ggtaga gtagag tagaga agagat gagata agatac gataca atacat tacata acatat catatg atatgg tatgga atggag tggagt ggagtc gagtca agtcag gtcaga tcagac cagacc agacct gacctt accttt cctttg ctttgt tttgtt ttgttt tgttta gtttaa tttaaa ttaaag taaagc aaagca aagcaa agcaat gcaatg caatga aatgac atgaca tgacag gacaga acagaa cagaag agaaga gaagat aagatg agatgg gatgga atggat tggatt ggattt gatttt attttt tttttg ttttgg tttggc ttggct tggctg ggctgt gctgta ctgtat tgtatg gtatgt tatgtt atgttc tgttca gttcag ttcaga tcagaa cagaag agaagc gaagct aagcta agctaa gctaaa ctaaag taaagg aaaggt aaggtc aggtct ggtctt gtcttg tcttgt cttgtt ttgtta tgttac gttaca ttacat tacatt acattg cattga attgaa ttgaag tgaagc gaagca aagcac agcact gcactc cactcc actccg ctccgc tccgcg ccgcga cgcgac gcgact cgactc gactcc actccc ctccct tccctt cccttt cctttt cttttt ttttta ttttaa tttaaa ttaaaa taaaag aaaagt aaagtg aagtgg agtgga gtggag tggagc ggagcc gagcct agcctt gccttt cctttt cttttc ttttct tttctt ttcttc tcttcc cttcct ttcctg tcctgg cctgga ctggac tggaca ggacac gacact acacta cactat actatg ctatga tatgaa atgaag tgaagt gaagtt aagttt agtttt gttttg ttttgg tttgga ttggat tggatt ggattt gattta atttaa tttaaa ttaaag taaagc aaagcc aagcca agccaa gccaaa ccaaat caaatg aaatgg aatggc atggca tggcaa ggcaaa gcaaag caaagt aaagtt aagttg agttgc gttgca ttgcat tgcatc gcatcc catccg atccgt tccgtg ccgtgg cgtgga gtggaa tggaaa ggaaat gaaatg aaatgg aatggt atggtt tggtta ggttaa gttaaa ttaaat taaata aaatat aatatc atatca tatcat atcatc tcatca catcac atcact tcactg cactgt actgtc ctgtcg tgtcgg gtcggg tcggga cgggat gggatg ggatgt gatgta atgtac tgtacc gtaccc tacccc acccct cccctg ccctgc cctgca ctgcac tgcacg gcacgc cacgcc acgccc cgccct gccctc ccctct cctcta ctctat tctatg ctatga tatgac atgaca tgacaa gacaat acaatg caatgt aatgtg atgtgg tgtgga gtggag tggaga ggagaa gagaaa agaaac gaaact aaactc aactct actctt ctcttt tctttc ctttcc tttcca ttccag tccagg ccaggt caggtt aggttt ggtttt gttttg ttttga tttgag ttgaga tgagat gagata agatag gataga atagaa tagaaa agaaac gaaact aaactg aactgt actgtg ctgtga tgtgaa gtgaag tgaaga gaagaa aagaac agaaca gaacaa aacaac acaacc caacct aacctc acctca cctcag ctcagg tcagga caggat aggatc ggatcc gatcct atcctt tccttt cctttt cttttt ttttta ttttaa tttaat ttaata taataa aataat ataatg taatgc aatgct atgctg tgctgt gctgta ctgtaa tgtaaa gtaaag taaaga aaagaa aagaaa agaaac gaaacg aaacgt aacgtt acgttt cgtttg gtttga tttgat ttgatg tgatga gatgac atgaca tgacag gacaga acagac cagaca agacag gacaga acagaa cagaag agaagg gaagga aaggat aggatt ggattg gattgg attggc ttggct tggctg ggctgc gctgcc ctgcct tgcctt gccttt cctttt ctttta ttttat tttatc ttatca tatcag atcagg tcaggg cagggg aggggg gggggc ggggct gggctt ggcttg gcttgg cttgga ttggac tggact ggactc gactcc actcca ctccag tccagc ccagct cagctt agcttg gcttgg cttggt ttggtt tggttg ggttgc gttgct ttgctg tgctgc gctgcc ctgcca tgccac gccact ccactc cactct actctg ctctgt tctgtt ctgttg tgttga gttgaa ttgaag tgaagc gaagca aagcag agcagc gcagct cagctg agctga gctgaa ctgaaa tgaaag gaaaga aaagaa aagaag agaagc gaagcc aagccc agccca gcccaa cccaag ccaagt caagta aagtac agtaca gtacag tacagt acagta cagtat agtatc gtatcc tatcct atcctc tcctct cctctc ctctcc tctcca ctccag tccaga ccagac cagaca agacat gacatt acattt catttg atttgc tttgca ttgcaa tgcaat gcaatt caattg aattgg attggc ttggca tggcat ggcatg gcatgg catgga atggaa tggaag ggaaga gaagac aagaca agacag gacagc acagcc cagccc agcccc gccccg ccccga cccgat ccgatt cgattt gattta atttac tttact ttactg tactgg actggc ctggct tggctg ggctgc gctgct ctgcta tgctag gctaga ctagaa tagaaa agaaag gaaagg aaaggt aaggtg aggtgg ggtggc gtggca tggcag ggcaga gcagat cagatc agatca gatcat atcata tcatat catatt atattg tattgg attgga ttggaa tggaag ggaagt gaagtg aagtga agtgaa gtgaac tgaaca gaacat aacatt acatta cattat attatg ttatga tatgaa atgaag tgaagt gaagtc aagtcc agtcct gtcctt tccttt cctttt cttttt ttttta ttttaa tttaac ttaact taactc aactct actctg ctctga tctgag ctgagg tgagga gaggaa aggaag ggaagg gaaggc aaggca aggcat ggcatt gcattc cattca attcag ttcagg tcaggc caggct aggctc ggctct gctctg ctctgg tctgga ctggat tggatg ggatga gatgaa atgaag tgaagt gaagtc aagtca agtcat gtcata tcatat catatt atattt tatttt attttc ttttcc tttcct ttcctt tccttg ccttgg cttgga ttggaa tggaaa ggaaac gaaact aaactt aactta acttat cttatg ttatga tatgac atgaca tgacat gacatt acatta cattac attaca ttacaa tacaac acaaca caacag aacagt acagtt cagttc agttcg gttcgt ttcgtg tcgtgc cgtgct gtgctt tgcttc gcttca cttcag ttcagt tcagta cagtag agtagg gtaggt taggta aggtat ggtatg gtatgt tatgta atgtat tgtatt gtattt tattta atttaa tttaat ttaatt taattt aatttc atttcc tttcca ttccaa tccaag ccaagt caagta aagtat agtata gtatat tatatt atattc tattcg attcgg ttcgga tcggaa cggaag ggaaga gaagaa aagaac agaaca gaacac aacaca acacag cacaga acagat cagata agatag gatagc atagcg tagcgt agcgtg gcgtgg cgtggt gtggtg tggtga ggtgat gtgatc tgatct gatctt atcttc tcttct cttctc ttctct tctctg ctctgg tctgga ctggag tggaga ggagaa gagaag agaagg gaagga aaggat aggatc ggatca gatcag atcaga tcagat cagatg agatga gatgaa atgaac tgaact gaactt aactta acttac cttacg ttacgc tacgca acgcag cgcagg gcaggg cagggt agggtt gggtta ggttac gttaca ttacat tacata acatat catata atatat tatatt atattt tatttt attttc ttttca tttcac ttcaca tcacaa cacaag acaagg caaggc aaggct aggctc ggctcc gctcct ctcctt tccttc ccttct cttctc ttctcc tctcct ctcctg tcctga cctgaa ctgaaa tgaaaa gaaaaa aaaaag aaaagc aaagcc aagccg agccga gccgag ccgagg cgagga gaggag aggagg ggagga gaggag aggaga ggagag gagagt agagtg gagtga agtgag gtgaga tgagag gagagg agaggc gaggct aggctt ggcttc gcttct cttctg ttctga tctgag ctgagg tgaggg gaggga agggaa gggaac ggaact gaactc aactct actcta ctctat tctatt ctattt tatttg atttgt tttgtt ttgttt tgtttg gtttga tttgat ttgatg tgatgt gatgtt atgttc tgttct gttctc ttctcc tctccg ctccgc tccgcg ccgcgc cgcgca gcgcag cgcaga gcagat cagatc agatcg gatcga atcgaa tcgaac cgaact gaacta aactac actact ctactg tactgc actgct ctgctg tgctgc gctgcc ctgccc tgccca gcccat cccatg ccatgg catggt atggtc tggtct ggtctt gtcttg tcttga cttgaa ttgaac tgaact gaactg aactga actgag ctgaga tgagag gagagt agagtc gagtcc agtccc gtccca tcccat cccatt ccattt catttc atttct tttcta ttctag tctaga ctagat tagatc agatca gatcat atcatc tcatcg catcga atcgat tcgatt cgattt gatttt attttc ttttct tttctt ttcttc tcttcc cttcct ttccta tcctat cctatt ctatta tattac attact ttactt tacttg acttgt cttgtc ttgtct tgtctc gtctct tctctg ctctgc tctgcc ctgcca tgccac gccacc ccacca caccag accaga ccagaa cagaaa agaaat gaaatg aaatga aatgag atgaga tgagaa gagaat agaatt gaattc aattcc attcca ttccaa tccaaa ccaaag caaaga aaagaa aagaat agaatg gaatgg aatggg atggga tgggat gggata ggatag gataga atagaa tagaaa agaaaa gaaaaa aaaaac aaaaca aaacat aacatc acatct catctc atctcc tctcct ctcctg tcctga cctgag ctgaga tgagag gagaga agagag gagaga agagac gagacg agacgt gacgtt acgttt cgtttg gtttga tttgag ttgagg tgagga gaggat aggatt ggattc gattcc attcca ttccaa tccaat ccaatc caatct aatctg atctga tctgat ctgata tgatac gatacc ataccc taccca acccaa cccaaa ccaaag caaaga aaagag aagaga agagat gagatt agattc gattct attctc ttctct tctctg ctctgg tctggc ctggcg tggcga ggcgac gcgacc cgacca gaccaa accaaa ccaaaa caaaag aaaaga aaagaa aagaag agaagc gaagcc aagcct agcctt gccttc ccttca cttcag ttcagt tcagtg cagtga agtgat gtgatg tgatgg gatgga atggaa tggaat ggaata gaataa aataac ataact taactt aacttc acttca cttcag ttcagt tcagtt cagtta agttaa gttaag ttaaga taagaa aagaat agaatt gaattc aattcc attcct ttcctg tcctgg cctggt ctggtt tggttt ggttta gtttaa tttaag ttaaga taagat aagatt agattt gatttt atttta ttttac tttaca ttacag tacagg acagga caggaa aggaat ggaata gaatac aatacg atacgt tacgtt acgttg cgttga gttgaa ttgaac tgaaca gaacat aacatc acatca catcag atcagg tcaggt caggtt aggttg ggttga gttgat ttgatg tgatga gatgat atgatg tgatgc gatgca atgcaa tgcaat gcaatg caatga aatgat atgatg tgatgg gatggc atggca tggcaa ggcaaa gcaaat caaatg aaatgc aatgca atgcag tgcagc gcagcc cagccc agccca gcccag cccaga ccagaa cagaaa agaaat gaaatt aaattt aatttc atttcc tttccc ttccct tccctt cccttc ccttca cttcaa ttcaat tcaata caatac aatact atactc tactcc actcct ctccta tcctaa cctaaa ctaaaa taaaac aaaacc aaacca aaccaa accaaa ccaaag caaaga aaagaa aagaag agaagg gaagga aaggat aggata ggatat gatatt atatta tattac attact ttacta tactac actacc ctaccg taccgt accgtc ccgtca cgtcaa gtcaag tcaagt caagtc aagtct agtctt gtcttt tctttg ctttga tttgaa ttgaac tgaacg gaacgc aacgcc acgcca cgccat gccatt ccatta cattac attacc ttaccc taccca acccag cccagg ccaggc caggcc aggccg ggccgg gccggg ccgggc cgggct gggctg ggctga gctgac ctgact tgactg gactgg actggc ctggct tggctg ggctga gctgag ctgagc tgagcc gagcca agccat gccatt ccatta cattac attact ttactg tactgg actgga ctggat tggatg ggatgc gatgcc atgccc tgccca gcccaa cccaag ccaagt caagtg aagtgg agtgga gtggat tggatc ggatca gatcaa atcaat tcaatg caatgc aatgcc atgcca tgccac gccact ccactg cactga actgac ctgacc tgaccc gaccct accctt cccttc ccttct cttctg ttctgc tctgcc ctgccc tgcccg gcccgc cccgca ccgcac cgcacg gcacgc cacgct acgctg cgctga gctgac ctgacc tgaccc gaccca acccac cccact ccacta cactac actaca ctacaa tacaag acaagt caagtc aagtca agtcag gtcagc tcagct cagctg agctgt gctgtc ctgtca tgtcaa gtcaaa tcaaag caaagc aaagct aagctt agctta gcttag\n"
     ]
    }
   ],
   "source": [
    "print(human_texts[2])"
   ]
  },
  {
   "cell_type": "code",
   "execution_count": 13,
   "metadata": {},
   "outputs": [
    {
     "data": {
      "text/plain": [
       "array([4, 4, 3, ..., 6, 6, 6], dtype=int64)"
      ]
     },
     "execution_count": 13,
     "metadata": {},
     "output_type": "execute_result"
    }
   ],
   "source": [
    "y_data"
   ]
  },
  {
   "cell_type": "markdown",
   "metadata": {},
   "source": [
    "### We will perform the same steps for chimpanzee and dog"
   ]
  },
  {
   "cell_type": "code",
   "execution_count": 14,
   "metadata": {},
   "outputs": [],
   "source": [
    "chimp_texts = list(chimp_data['words'])\n",
    "for item in range(len(chimp_texts)):\n",
    "    chimp_texts[item] = ' '.join(chimp_texts[item])\n",
    "y_chimp = chimp_data.iloc[:, 0].values  "
   ]
  },
  {
   "cell_type": "code",
   "execution_count": 15,
   "metadata": {},
   "outputs": [
    {
     "data": {
      "text/plain": [
       "array([4, 4, 4, ..., 6, 3, 3], dtype=int64)"
      ]
     },
     "execution_count": 15,
     "metadata": {},
     "output_type": "execute_result"
    }
   ],
   "source": [
    "y_chimp"
   ]
  },
  {
   "cell_type": "code",
   "execution_count": 19,
   "metadata": {},
   "outputs": [
    {
     "name": "stdout",
     "output_type": "stream",
     "text": [
      "atggcc tggcct ggcctc gcctcg cctcgc ctcgcg tcgcgc cgcgct gcgctg cgctgg gctggt ctggtg tggtgg ggtggc gtggcg tggcgg ggcggt gcggtg cggtgg ggtggc gtggcg tggcga ggcgac gcgacg cgacgc gacgcg acgcgg cgcggc gcggct cggctg ggctgc gctgct ctgctc tgctcc gctcct ctcctg tcctgg cctgga ctggag tggagg ggaggc gaggcc aggccg ggccgg gccggc ccggcg cggcgg ggcggc gcggcg cggcgc ggcgcg gcgcgg cgcgga gcggag cggagc ggagct gagctc agctcc gctccg ctccgg tccggg ccgggc cgggcc gggccc ggcccg gcccgg cccggc ccggct cggctc ggctcc gctccc ctcccc tcccca ccccag cccagg ccaggc caggcc aggccg ggccgt gccgtg ccgtgc cgtgcg gtgcgg tgcggg gcggga cgggac gggacc ggaccg gaccgt accgtc ccgtcg cgtcgg gtcggg tcgggg cggggc ggggcc gggccg ggccga gccgag ccgagc cgagcg gagcgc agcgcc gcgccg cgccgc gccgct ccgctg cgctgc gctgcc ctgccg tgccga gccgac ccgacg cgacgt gacgtc acgtcc cgtccg gtccgc tccgcg ccgcgc cgcgcg gcgcgc cgcgca gcgcag cgcagg gcaggt caggtt aggttc ggttca gttcat ttcata tcatag catagg ataggc taggcg aggcgg ggcgga gcggaa cggaag ggaagg gaaggg aaggga agggac gggact ggactt gacttg acttga cttgac ttgact tgactt gacttg acttgt cttgtc ttgtct tgtctc gtctca tctcag ctcaga tcagat cagata agatac gatacc ataccc taccct acccta ccctat cctata ctatat tatatt atatta tattaa attaat ttaatc taatct aatctt atcttg tcttgt cttgtg ttgtga tgtgaa gtgaag tgaagc gaagca aagcat agcatt gcattt cattta atttaa tttaac ttaaca taacat aacatc acatct catctg atctgc tctgcc ctgcct tgcctg gcctgt cctgtc ctgtcc tgtcca gtccaa tccaaa ccaaat caaatg aaatgt aatgta atgtat tgtatg gtatgt tatgtc atgtcg tgtcgt gtcgta tcgtat cgtata gtatat tatatc atatca tatcac atcacg tcacgg cacggt acggtt cggttt ggtttc gtttca tttcat ttcatc tcatca catcac atcaca tcacac cacaca acacaa cacaac acaacc caaccc aacccc acccca ccccag cccaga ccagac cagaca agacag gacagt acagta cagtaa agtaaa gtaaaa taaaac aaaaca aaacac aacaca acacac cacaca acacag cacagt acagtg cagtgg agtggt gtggtg tggtga ggtgaa gtgaaa tgaaaa gaaaaa aaaaat aaaata aaatac aataca atacac tacacc acaccg caccga accgat ccgatc cgatcc gatcct atcctt tccttt cctttc ctttca tttcaa ttcaaa tcaaac caaact aaactc aactcg actcgg ctcggt tcggtt cggttg ggttgg gttgga ttggag tggaga ggagag gagaga agagac gagact agactt gacttg acttga cttgaa ttgaaa tgaaag gaaagg aaaggt aaggtc aggtct ggtctg gtctgt tctgta ctgtat tgtatg gtatga tatgag atgagg tgagga gaggac aggaca ggacat gacatt acatta cattag attaga ttagaa tagaaa agaaag gaaagg aaagga aaggaa aggaac ggaact gaactg aactgc actgct ctgctt tgctta gcttat cttata ttatat tatatc atatca tatcaa atcaac tcaaca caacat aacatc acatca catcag atcaga tcagaa cagaac agaact gaactt aactta acttaa cttaag ttaagg taagga aaggaa aggaaa ggaaat gaaatg aaatgt aatgtc atgtct tgtctg gtctga tctgag ctgagt tgagta gagtac agtact gtacta tactac actact ctactt tacttt actttg ctttga tttgat ttgatg tgatgg gatggg atggga tgggaa gggaaa ggaaag gaaagg aaaggg aaggga agggaa gggaaa ggaaag gaaagc aaagcc aagcct agcctt gccttt cctttc ctttcg tttcga ttcgac tcgacc cgacca gaccaa accaat ccaatt caatta aattat attatt ttattg tattgt attgtg ttgtgg tgtggc gtggcg tggcgc ggcgct gcgcta cgctaa gctaat ctaatg taatgg aatggc atggcc tggccc ggcccg gcccga cccgag ccgagc cgagca gagcat agcatg gcatgc catgca atgcaa tgcaat gcaata caatat aatatt atattc tattca attcat ttcatc tcatca catcat atcata tcataa cataac ataaca taacaa aacaac acaact caactc aactcc actccc ctcccg tcccga cccgac ccgaca cgacat gacatg acatgt catgtg atgtgc tgtgca gtgcaa tgcaag gcaagc caagcc aagcca agccag gccagc ccagcc cagcca agccag gccagc ccagcg cagcgc agcgca gcgcac cgcacc gcacca caccat accata ccatag catagc atagcc tagcct agcctt gcctta ccttaa cttaat ttaatt taattg aattgc attgca ttgcag tgcaga gcagaa cagaaa agaaat gaaatg aaatga aatgat atgatc tgatcc gatcca atccac tccaca ccacac cacact acactg cactgc actgct ctgcta tgctag gctagt ctagtc tagtct agtctg gtctgg tctggt ctggtt tggttc ggttca gttcac ttcacg tcacga cacgat acgatg cgatga gatgac atgacg tgacgt gacgtt acgtta cgttat gttatt ttattg tattga attgac ttgacg tgacga gacgat acgatg cgatgc gatgca atgcaa tgcaag gcaagt caagtt aagttc agttct gttctc ttctcg tctcga ctcgaa tcgaag cgaaga gaagag aagagg agagga gaggaa aggaaa ggaaaa gaaaac aaaaca aaacac aacaca acacac cacaca acacag cacagt acagtt cagtta agttaa gttaat ttaata taataa aataag ataaga taagat aagatc agatct gatctg atctgg tctggg ctgggg tggggt ggggtg gggtga ggtgaa gtgaaa tgaaaa gaaaag aaaaga aaagaa aagaag agaagg gaaggc aaggct aggctg ggctgt gctgtt ctgttc tgttct gttctt ttcttg tcttgc cttgct ttgctg tgctgg gctgga ctggag tggaga ggagat gagatt agattt gattta atttaa tttaat ttaatt taattc aattct attctt ttcttt tctttc ctttct tttctg ttctgc tctgca ctgcag tgcagc gcagca cagcat agcatc gcatct catcta atctat tctata ctatag tatagc atagct tagctc agctct gctctg ctctgg tctggc ctggca tggcac ggcacg gcacga cacgaa acgaat cgaatt gaattg aattgg attgga ttggaa tggaaa ggaaat gaaata aaatac aataca atacaa tacaac acaact caactg aactgt actgtt ctgtta tgttat gttata ttatat tatatc atatct tatcta atctat tctatt ctattt tatttt atttta ttttaa tttaac ttaacc taaccc aaccca acccaa cccaag ccaagt caagtt aagtta agttat gttatt ttattg tattga attgaa ttgaag tgaaga gaagat aagatt agattt gatttg atttgg tttggt ttggtg tggtgc ggtgcg gtgcgt tgcgtg gcgtgg cgtggt gtggtg tggtga ggtgaa gtgaat tgaatt gaattt aatttc atttct tttctt ttcttc tcttca cttcag ttcagc tcagct cagctc agctcg gctcgg ctcggg tcgggt cgggtc gggtca ggtcaa gtcaaa tcaaaa caaaag aaaaga aaagaa aagaaa agaaaa gaaaat aaaatg aaatga aatgag atgaga tgagaa gagaat agaatg gaatga aatgaa atgaaa tgaaag gaaaga aaagat aagatt agattt gatttg atttgc tttgca ttgcac tgcaca gcacac cacact acacta cactac actacc ctacct tacctt accttg ccttga cttgag ttgaga tgagaa gagaag agaaga gaagac aagacg agacgt gacgtt acgttc cgttca gttcaa ttcaag tcaaga caagaa aagaag agaaga gaagac aagacc agaccg gaccgc accgcc ccgcca cgccag gccagc ccagcc cagcct agcctg gcctga cctgat ctgata tgatag gatagc atagcc tagcca agccaa gccaac ccaaca caacag aacagt acagtt cagttg agttgt gttgta ttgtaa tgtaaa gtaaag taaagc aaagca aagcag agcagt gcagtc cagtct agtctc gtctct tctctg ctctgt tctgtt ctgttc tgttct gttcta ttctag tctagg ctagga taggat aggatg ggatgt gatgtc atgtcc tgtccc gtcccg tcccga cccgac ccgacc cgaccc gaccca acccag cccagt ccagtg cagtgg agtggt gtggtg tggtgc ggtgca gtgcat tgcatg gcatga catgag atgaga tgagat gagatc agatcg gatcgc atcgcc tcgcct cgccta gcctat cctatc ctatca tatcag atcagt tcagta cagtac agtacg gtacgg tacgga acggaa cggaaa ggaaaa gaaaaa aaaaaa aaaaat aaaatg aaatgt aatgta atgtag tgtagg gtagga taggaa aggaat ggaata gaatag aatagc atagct tagctt agcttt gctttt cttttc ttttca tttcag ttcagc tcagct cagctt agctta gcttat cttata ttatag tataga atagat tagatg agatga gatgat atgatg tgatgt gatgta atgtat tgtatt gtattg tattgg attgga ttggac tggact ggactt gacttc acttca cttcac ttcacc tcacct cacctc acctca cctcat ctcatg tcatgt catgtt atgttc tgttct gttctg ttctga tctgac ctgacc tgacca gaccag accaga ccagat cagatg agatgg gatggg atgggc tgggca gggcaa ggcaaa gcaaac caaacc aaacca aaccaa accaac ccaaca caacat aacatc acatca catcag atcagc tcagct cagctg agctga gctgat ctgatc tgatct gatctg atctga tctgaa ctgaag tgaagc gaagct aagctc agctcg gctcgg ctcggg tcgggt cgggtt gggtta ggttag gttagc ttagcc tagcca agccac gccact ccactg cactgg actggt ctggtc tggtcc ggtcct gtcctg tcctgt cctgtc ctgtcc tgtcct gtcctg tcctgt cctgtt ctgttt tgtttg gtttgc tttgcc ttgcct tgcctg gcctgt cctgtc ctgtca tgtcag gtcagc tcagca cagcag agcagt gcagtt cagttc agttcc gttccc ttccca tcccag cccaga ccagaa cagaaa agaaat gaaatg aaatga aatgaa atgaat tgaatg gaatgc aatgct atgcta tgctat gctatg ctatga tatgat atgatc tgatca gatcat atcatg tcatgc catgcg atgcga tgcgac gcgacg cgacgg gacggt acggtt cggttc ggttca gttcag ttcagt tcagtt cagttt agtttg gtttgc tttgcc ttgccg tgccgg gccggg ccggga cgggag gggaga ggagat gagatg agatgt gatgta atgtag tgtaga gtagac tagaca agacag gacaga acagag cagagc agagct gagctc agctcg gctcga ctcgac tcgaca cgacag gacagt acagta cagtat agtatg gtatgt tatgta atgtat tgtatt gtatta tattac attaca ttacag tacaga acagag cagagt agagtg gagtga agtgat gtgatg tgatgg gatggt atggtg tggtgt ggtgtg gtgtgc tgtgca gtgcaa tgcaac gcaaca caacaa aacaaa acaaac caaaca aaacaa aacaac acaacc caacct aaccta acctac cctacc ctacct tacctc acctcg cctcgc ctcgcc tcgccc cgccca gcccag cccagc ccagca cagcag agcagt gcagta cagtac agtact gtactg tactgc actgcc ctgcca tgccat gccatg ccatga catgaa atgaag tgaagc gaagca aagcaa agcaat gcaata caataa aataag ataaga taagag aagaga agagag gagaga agagat gagatc agatca gatcag atcagt tcagta cagtaa agtaaa gtaaac taaact aaactt aacttc acttcg cttcga ttcgac tcgacc cgacca gaccat accatc ccatcc catccc atcccc tcccca ccccag cccaga ccagaa cagaaa agaaag gaaaga aaagag aagaga agagat gagatg agatgc gatgcc atgccc tgccct gccctc ccctca cctcat ctcatt tcattc cattca attcag ttcagc tcagct cagctt agcttt gctttc ctttca tttcag ttcaga tcagaa cagaaa agaaat gaaatt aaattg aattgt attgta ttgtac tgtact gtactc tactca actcac ctcaca tcacaa cacaag acaaga caagag aagaga agagat gagata agataa gataaa ataaat taaatg aaatga\n"
     ]
    }
   ],
   "source": [
    "print(chimp_texts[2])"
   ]
  },
  {
   "cell_type": "code",
   "execution_count": 20,
   "metadata": {},
   "outputs": [],
   "source": [
    "dog_texts = list(dog_data['words'])\n",
    "for item in range(len(dog_texts)):\n",
    "    dog_texts[item] = ' '.join(dog_texts[item])\n",
    "y_dog = dog_data.iloc[:, 0].values  "
   ]
  },
  {
   "cell_type": "code",
   "execution_count": 21,
   "metadata": {},
   "outputs": [
    {
     "name": "stdout",
     "output_type": "stream",
     "text": [
      "atggaa tggaaa ggaaac gaaaca aaacac aacacc acaccc caccct accctt cccttc ccttct cttcta ttctac tctacg ctacgg tacggc acggcg cggcga ggcgat gcgatg cgatga gatgag atgagg tgaggc gaggcg aggcgc ggcgct gcgctg cgctga gctgag ctgagc tgagcg gagcgg agcggc gcggcc cggcct ggcctg gcctgg cctggg ctgggc tgggcg gggcgg ggcggc gcggcg cggcgg ggcggc gcggcg cggcgt ggcgtc gcgtca cgtcag gtcagt tcagta cagtag agtagc gtagca tagcag agcagt gcagtg cagtgg agtggc gtggcg tggcgg ggcggc gcggcg cggcgg ggcggt gcggtg cggtgg ggtggt gtggta tggtag ggtagc gtagct tagctt agcttc gcttcg cttcgc ttcgcg tcgcgt cgcgtc gcgtcc cgtccc gtcccc tccccg ccccgg cccggg ccgggt cgggtc gggtcg ggtcgc gtcgcc tcgcct cgcctg gcctgt cctgtt ctgttt tgtttc gtttcc tttccc ttcccg tcccgg cccggg ccgggg cggggc ggggcg gggcgc ggcgcc gcgccc cgcccc gccccc cccccg ccccga cccgac ccgacg cgacgg gacggc acggcg cggcgg ggcggc gcggcg cggcga ggcgac gcgact cgactg gactgg actggc ctggca tggcag ggcagc gcagca cagcat agcatg gcatga catgat atgatg tgatga gatgaa atgaag tgaaga gaagaa aagaaa agaaag gaaaga aaagac aagacg agacgc gacgcg acgcgc cgcgct gcgctg cgctga gctgac ctgacg tgacgc gacgct acgctg cgctga gctgag ctgagc tgagcc gagcct agcctg gcctga cctgag ctgagc tgagcg gagcga agcgag gcgagc cgagca gagcag agcagg gcaggt caggtg aggtgg ggtggc gtggcg tggcgg ggcggc gcggcg cggcgg ggcggc gcggcg cggcgc ggcgct gcgctc cgctca gctcaa ctcaag tcaagc caagcc aagccc agcccg gcccgc cccgcg ccgcgg cgcggc gcggcc cggccg ggccgc gccgcg ccgcgc cgcgcc gcgccg cgccgc gccgcc ccgccc cgcccc gccccc cccccg ccccgg cccggc ccggcc cggccc ggcccc gccccc cccccc ccccct cccctg ccctgc cctgcg ctgcgc tgcgca gcgcac cgcacc gcaccg caccga accgac ccgacg cgacgg gacggc acggcg cggcgc ggcgcc gcgccc cgcccc gcccca ccccag cccagg ccaggc caggca aggcac ggcacg gcacgg cacggc acggcg cggcgc ggcgcc gcgccc cgcccc gccccc cccccc cccccg ccccga cccgac ccgacg cgacgg gacggc acggcc cggcct ggccta gcctac cctact ctactc tactct actctc ctctcc tctcct ctcctc tcctcg cctcgc ctcgcc tcgccc cgcccg gcccga cccgac ccgacc cgacct gacctg acctgg cctggg ctgggg tggggc ggggct gggctg ggctgc gctgct ctgctc tgctca gctcaa ctcaag tcaagc caagct aagctc agctcg gctcgc ctcgcc tcgcct cgcctc gcctcg cctcgc ctcgcc tcgccc cgcccg gcccga cccgag ccgagc cgagct gagctc agctcg gctcga ctcgag tcgagc cgagcg gagcgc agcgcc gcgcct cgccta gcctaa cctaat ctaatc taatca aatcat atcatc tcatcc catcca atccag tccagt ccagtc cagtcc agtcca gtccaa tccaac ccaacg caacgg aacggg acgggc cgggct gggctg ggctgg gctggt ctggtc tggtca ggtcac gtcacc tcacca caccac accacc ccacca caccac accacg ccacgc cacgcc acgccg cgccga gccgac ccgacg cgacga gacgag acgagc cgagca gagcac agcact gcactc cactca actcag ctcagt tcagtt cagttc agttcc gttcct ttcctc tcctct cctcta ctctac tctacc ctaccc tacccc acccca ccccaa cccaag ccaagg caaggt aaggtg aggtgg ggtggc gtggcg tggcgg ggcggc gcggcc cggcca ggccag gccagc ccagcg cagcga agcgag gcgagg cgagga gaggag aggagc ggagca gagcag agcagg gcagga caggag aggagt ggagtt gagttt agtttg gtttgc tttgcc ttgccg tgccga gccgag ccgagg cgaggg gagggc agggct gggctt ggcttc gcttcg cttcgt ttcgtc tcgtca cgtcaa gtcaag tcaagg caaggc aaggcc aggccc ggccct gccctg ccctgg cctgga ctggaa tggaag ggaaga gaagac aagact agactt gacttg acttgc cttgca ttgcac tgcaca gcacaa cacaag acaagc caagca aagcag agcaga gcagaa cagaac agaacc gaacca aaccag accagc ccagct cagctg agctgg gctggg ctgggc tgggca gggcac ggcacg gcacgg cacggg acgggc cgggcg gggcgc ggcgcg gcgcgg cgcggc gcggcc cggcct ggcctc gcctcg cctcgg ctcggc tcggca cggcag ggcagc gcagcc cagccg agccgc gccgcg ccgcgg cgcggc gcggcc cggccg ggccgc gccgcc ccgccg cgccgg gccgga ccggag cggagg ggagga gaggac aggacc ggaccc gaccct accctc ccctcg cctcgg ctcggg tcgggc cgggca gggcac ggcacg gcacgg cacggc acggct cggctg ggctgc gctgcg ctgcgg tgcggg gcgggc cgggcg gggcgc ggcgcc gcgccg cgccgc gccgcg ccgcgc cgcgcc gcgcct cgcctc gcctcc cctcct ctcctg tcctgg cctggc ctggcg tggcga ggcgaa gcgaac cgaact gaactg aactgg actggc ctggcc tggccc ggcccc gcccca ccccag cccagc ccagcg cagcgg agcggc gcggca cggcag ggcagc gcagcc cagcca agccac gccacg ccacgc cacgcc acgccc cgcccg gcccga cccgag ccgagg cgaggc gaggcg aggcgc ggcgcc gcgccc cgcccg gcccgt cccgtc ccgtct cgtcta gtctac tctacg ctacgc tacgcg acgcga cgcgaa gcgaac cgaacc gaacct aacctg acctga cctgag ctgagc tgagca gagcag agcagc gcagct cagcta agctac gctacg ctacgc tacgcg acgcgg cgcggg gcgggc cgggcg gggcgg ggcggc gcggca cggcac ggcacc gcaccg caccgg accggg ccgggg cggggg gggggt ggggtt gggttc ggttcg gttcgg ttcggg tcgggg cggggg gggggg gggggt ggggtg gggtgc ggtgct gtgctg tgctgc gctgcg ctgcga tgcgac gcgacg cgacgg gacggt acggtc cggtcg ggtcgc gtcgcc tcgcct cgcctt gccttc ccttcg cttcgc ttcgcc tcgccg cgccgc gccgcg ccgcgg cgcgga gcggag cggagc ggagcc gagcct agcctg gcctgt cctgtg ctgtgc tgtgcc gtgccc tgccct gccctt cccttc ccttcc cttccc ttccct tccctc ccctcc cctccg ctccgc tccgcc ccgcca cgccac gccacc ccaccg caccgc accgcc ccgccc cgcccc gccccc ccccca ccccag cccagg ccaggc caggcg aggcgc ggcgcg gcgcgc cgcgct gcgctg cgctgg gctggg ctgggg tggggc ggggcc gggccg ggccgc gccgcc ccgccc cgcccc gccccg ccccgc cccgcc ccgcct cgcctg gcctga cctgac ctgacc tgaccg gaccgc accgcg ccgcgc cgcgct gcgctc cgctca gctcaa ctcaag tcaagg caagga aaggat aggatg ggatga gatgag atgagc tgagcc gagccg agccgc gccgca ccgcag cgcaga gcagac cagacg agacgg gacggt acggtg cggtgc ggtgcc gtgccc tgcccg gcccga cccgac ccgacg cgacgt gacgtg acgtgc cgtgcc gtgcca tgccaa gccaag ccaagc caagct aagctt agcttc gcttcg cttcgg ttcggc tcggcg cggcga ggcgag gcgaga cgagag gagagc agagcc gagccc agcccg gcccgc cccgcc ccgccg cgccgt gccgtt ccgttg cgttgt gttgtc ttgtcg tgtcgc gtcgcc tcgccc cgccca gcccat cccatc ccatcg catcga atcgac tcgaca cgacat gacatg acatgg catgga atggac tggaca ggacac gacacg acacgc cacgca acgcag cgcagg gcagga caggag aggagc ggagcg gagcgc agcgca gcgcat cgcatt gcatta cattaa attaag ttaagg taaggc aaggcg aggcgg ggcgga gcggag cggagc ggagcg gagcgc agcgca gcgcaa cgcaag gcaagc caagcg aagcgg agcggc gcggct cggctg ggctgc gctgcg ctgcgc tgcgca gcgcaa cgcaac gcaacc caaccg aaccgc accgca ccgcat cgcatc gcatcg catcgc atcgct tcgctg cgctgc gctgcc ctgcct tgcctc gcctct cctcta ctctaa tctaag ctaagt taagtg aagtgc agtgcc gtgccg tgccgc gccgca ccgcaa cgcaag gcaagc caagcg aagcgc agcgca gcgcaa cgcaag gcaagc caagct aagctg agctgg gctgga ctggag tggagc ggagcg gagcgc agcgca gcgcat cgcatc gcatct catctc atctcg tctcgc ctcgcg tcgcgc cgcgcc gcgcct cgcctc gcctcg cctcga ctcgag tcgagg cgagga gaggag aggaga ggagaa gagaaa agaaag gaaagt aaagtg aagtga agtgaa gtgaag tgaaga gaagac aagacg agacgc gacgct acgctc cgctca gctcaa ctcaag tcaaga caagag aagagc agagcc gagcca agccag gccaga ccagaa cagaac agaaca gaacac aacacg acacgg cacgga acggag cggagc ggagct gagctg agctgg gctggc ctggcg tggcgt ggcgtc gcgtcc cgtcca gtccac tccaca ccacag cacagc acagcg cagcga agcgag gcgagc cgagcc gagcct agcctg gcctgc cctgct ctgctg tgctgc gctgcg ctgcgc tgcgcg gcgcga cgcgag gcgagc cgagca gagcag agcagg gcaggt caggtg aggtgg ggtggc gtggcg tggcgc ggcgca gcgcag cgcagc gcagct cagctc agctca gctcaa ctcaag tcaagc caagca aagcag agcaga gcagaa cagaag agaagg gaaggt aaggtc aggtcc ggtcct gtcctc tcctca cctcag ctcagc tcagcc cagcca agccac gccacg ccacgt cacgtc acgtca cgtcaa gtcaac tcaaca caacag aacagc acagcg cagcgg agcggc gcggct cggctg ggctgc gctgcc ctgcca tgccag gccagc ccagct cagctg agctgc gctgct ctgctg tgctgc gctgcc ctgccc tgcccc gcccca ccccag cccagc ccagca cagcac agcacc gcacca caccag accagg ccaggt caggtg aggtgt ggtgtc gtgtcc tgtccg gtccgc tccgcg ccgcgt cgcgta gcgtac cgtact gtactg tactga\n"
     ]
    }
   ],
   "source": [
    "print(dog_texts[2])"
   ]
  },
  {
   "cell_type": "code",
   "execution_count": 22,
   "metadata": {},
   "outputs": [
    {
     "data": {
      "text/plain": [
       "array([4, 4, 6, 6, 0, 6, 0, 0, 0, 0, 0, 6, 6, 0, 0, 0, 6, 0, 0, 0, 0, 0,\n",
       "       6, 0, 0, 0, 6, 0, 0, 6, 0, 0, 0, 0, 0, 0, 3, 0, 6, 0, 6, 0, 6, 0,\n",
       "       6, 0, 0, 3, 3, 6, 6, 6, 6, 4, 0, 0, 4, 2, 0, 0, 0, 0, 6, 0, 6, 0,\n",
       "       0, 5, 5, 6, 4, 6, 0, 0, 3, 6, 3, 6, 6, 6, 6, 6, 4, 6, 4, 1, 4, 0,\n",
       "       0, 0, 6, 4, 4, 6, 6, 6, 6, 6, 4, 6, 6, 3, 3, 3, 3, 0, 6, 3, 3, 6,\n",
       "       4, 4, 5, 6, 6, 1, 5, 2, 2, 1, 4, 2, 6, 3, 3, 6, 6, 6, 3, 3, 6, 6,\n",
       "       6, 3, 6, 6, 2, 0, 0, 6, 6, 3, 3, 3, 0, 0, 4, 6, 6, 5, 1, 1, 0, 0,\n",
       "       0, 4, 0, 4, 0, 0, 3, 4, 6, 0, 6, 6, 3, 4, 0, 6, 6, 1, 2, 2, 2, 3,\n",
       "       6, 2, 2, 2, 6, 0, 0, 6, 6, 0, 0, 1, 6, 5, 5, 6, 0, 6, 0, 0, 4, 0,\n",
       "       0, 3, 4, 0, 0, 6, 6, 5, 5, 3, 4, 1, 0, 6, 5, 6, 6, 4, 4, 2, 2, 2,\n",
       "       4, 6, 4, 4, 2, 1, 3, 6, 0, 6, 2, 3, 0, 0, 6, 0, 6, 4, 3, 1, 1, 4,\n",
       "       6, 4, 4, 6, 3, 3, 2, 2, 1, 1, 3, 3, 4, 3, 0, 3, 5, 5, 5, 5, 5, 5,\n",
       "       5, 2, 2, 4, 4, 6, 4, 4, 6, 6, 6, 0, 3, 3, 4, 3, 0, 0, 6, 0, 0, 6,\n",
       "       6, 1, 5, 5, 0, 0, 6, 6, 1, 1, 1, 4, 2, 2, 3, 4, 3, 4, 4, 1, 4, 4,\n",
       "       3, 1, 6, 1, 2, 2, 2, 5, 0, 0, 6, 6, 6, 6, 4, 3, 3, 4, 5, 5, 6, 6,\n",
       "       0, 4, 1, 2, 4, 4, 3, 4, 4, 0, 0, 6, 0, 5, 4, 4, 4, 4, 0, 5, 3, 3,\n",
       "       6, 6, 6, 6, 6, 3, 4, 4, 2, 2, 3, 6, 0, 0, 2, 6, 4, 4, 6, 2, 4, 4,\n",
       "       4, 0, 6, 6, 6, 0, 6, 3, 2, 2, 4, 0, 6, 4, 6, 4, 4, 4, 6, 6, 6, 4,\n",
       "       6, 6, 6, 2, 6, 6, 6, 6, 6, 5, 6, 0, 0, 0, 5, 5, 5, 4, 6, 6, 6, 6,\n",
       "       1, 1, 6, 6, 1, 4, 1, 1, 3, 6, 6, 1, 3, 2, 2, 0, 0, 4, 3, 0, 0, 5,\n",
       "       0, 1, 1, 1, 3, 0, 2, 2, 2, 3, 1, 6, 3, 3, 6, 6, 6, 6, 5, 5, 4, 6,\n",
       "       4, 6, 6, 6, 2, 5, 5, 0, 0, 3, 6, 5, 5, 1, 1, 1, 6, 6, 6, 6, 1, 1,\n",
       "       2, 6, 6, 4, 6, 1, 3, 3, 6, 1, 2, 6, 4, 4, 0, 6, 6, 6, 4, 6, 6, 6,\n",
       "       6, 6, 2, 2, 6, 6, 6, 4, 4, 1, 6, 6, 6, 2, 2, 1, 1, 3, 6, 6, 2, 2,\n",
       "       2, 2, 0, 6, 4, 1, 1, 6, 1, 3, 3, 4, 4, 4, 4, 6, 6, 1, 1, 1, 5, 1,\n",
       "       1, 2, 2, 6, 6, 4, 4, 0, 6, 3, 5, 4, 1, 1, 1, 3, 5, 6, 6, 6, 6, 5,\n",
       "       5, 6, 3, 6, 6, 4, 6, 4, 0, 1, 0, 3, 4, 6, 4, 4, 4, 6, 1, 1, 5, 5,\n",
       "       2, 6, 6, 6, 4, 0, 3, 6, 3, 6, 6, 3, 3, 6, 6, 6, 4, 6, 6, 6, 4, 4,\n",
       "       4, 3, 3, 6, 3, 4, 6, 6, 4, 1, 5, 5, 6, 0, 0, 4, 6, 6, 0, 0, 0, 6,\n",
       "       4, 4, 6, 6, 6, 3, 4, 4, 4, 6, 3, 2, 5, 6, 1, 3, 0, 2, 6, 4, 4, 5,\n",
       "       0, 4, 4, 4, 4, 6, 5, 6, 6, 6, 6, 2, 2, 1, 1, 4, 4, 3, 5, 5, 1, 5,\n",
       "       4, 0, 6, 0, 1, 1, 6, 6, 6, 6, 6, 1, 3, 4, 3, 5, 1, 0, 6, 6, 6, 4,\n",
       "       1, 5, 5, 4, 0, 0, 6, 2, 6, 3, 6, 6, 0, 3, 3, 3, 3, 4, 6, 6, 0, 4,\n",
       "       4, 4, 6, 1, 3, 0, 4, 4, 1, 1, 1, 6, 4, 2, 2, 3, 1, 4, 4, 1, 1, 6,\n",
       "       6, 5, 5, 6, 3, 4, 6, 6, 6, 6, 3, 6, 6, 6, 2, 2, 6, 6, 3, 2, 4, 4,\n",
       "       4, 6, 6, 4, 6, 6, 6, 6, 6, 3, 3, 5, 2, 2, 3, 0, 0, 0, 6, 6, 3, 3,\n",
       "       3, 5, 6, 6, 1, 1, 0, 6, 6, 6, 4, 5, 6, 3, 0, 4, 6, 4, 4, 6, 6, 3,\n",
       "       5, 5, 6, 6, 1, 6], dtype=int64)"
      ]
     },
     "execution_count": 22,
     "metadata": {},
     "output_type": "execute_result"
    }
   ],
   "source": [
    "y_dog"
   ]
  },
  {
   "cell_type": "markdown",
   "metadata": {},
   "source": [
    "### Now we will apply the BAG of WORDS using CountVectorizer using NLP"
   ]
  },
  {
   "cell_type": "code",
   "execution_count": 23,
   "metadata": {},
   "outputs": [],
   "source": [
    "# Creating the Bag of Words model using CountVectorizer()\n",
    "# This is equivalent to k-mer counting\n",
    "# The n-gram size of 4 was previously determined by testing\n",
    "from sklearn.feature_extraction.text import CountVectorizer\n",
    "cv = CountVectorizer(ngram_range=(4,4))\n",
    "X = cv.fit_transform(human_texts)\n",
    "X_chimp = cv.transform(chimp_texts)\n",
    "X_dog = cv.transform(dog_texts)"
   ]
  },
  {
   "cell_type": "code",
   "execution_count": 24,
   "metadata": {},
   "outputs": [
    {
     "name": "stdout",
     "output_type": "stream",
     "text": [
      "(4380, 232414)\n",
      "(1682, 232414)\n",
      "(820, 232414)\n"
     ]
    }
   ],
   "source": [
    "print(X.shape)\n",
    "print(X_chimp.shape)\n",
    "print(X_dog.shape)"
   ]
  },
  {
   "cell_type": "markdown",
   "metadata": {},
   "source": [
    "# Visualize result \n",
    "#### If we have a look at class balance we can see we have relatively balanced dataset.¶"
   ]
  },
  {
   "cell_type": "code",
   "execution_count": 25,
   "metadata": {},
   "outputs": [
    {
     "data": {
      "text/plain": [
       "<matplotlib.axes._subplots.AxesSubplot at 0x25da0e20d60>"
      ]
     },
     "execution_count": 25,
     "metadata": {},
     "output_type": "execute_result"
    },
    {
     "data": {
      "image/png": "[encoded data removed]",
      "text/plain": [
       "<Figure size 432x288 with 1 Axes>"
      ]
     },
     "metadata": {
      "needs_background": "light"
     },
     "output_type": "display_data"
    }
   ],
   "source": [
    "human_data['class'].value_counts().sort_index().plot.bar()"
   ]
  },
  {
   "cell_type": "code",
   "execution_count": 26,
   "metadata": {},
   "outputs": [
    {
     "data": {
      "text/plain": [
       "<matplotlib.axes._subplots.AxesSubplot at 0x25da12d7940>"
      ]
     },
     "execution_count": 26,
     "metadata": {},
     "output_type": "execute_result"
    },
    {
     "data": {
      "image/png": "[encoded data removed]",
      "text/plain": [
       "<Figure size 432x288 with 1 Axes>"
      ]
     },
     "metadata": {
      "needs_background": "light"
     },
     "output_type": "display_data"
    }
   ],
   "source": [
    "dog_data['class'].value_counts().sort_index().plot.bar()"
   ]
  },
  {
   "cell_type": "code",
   "execution_count": 27,
   "metadata": {},
   "outputs": [
    {
     "data": {
      "text/plain": [
       "<matplotlib.axes._subplots.AxesSubplot at 0x25da0cfe520>"
      ]
     },
     "execution_count": 27,
     "metadata": {},
     "output_type": "execute_result"
    },
    {
     "data": {
      "image/png": "[encoded data removed]",
      "text/plain": [
       "<Figure size 432x288 with 1 Axes>"
      ]
     },
     "metadata": {
      "needs_background": "light"
     },
     "output_type": "display_data"
    }
   ],
   "source": [
    "chimp_data['class'].value_counts().sort_index().plot.bar()"
   ]
  },
  {
   "cell_type": "code",
   "execution_count": 28,
   "metadata": {},
   "outputs": [],
   "source": [
    "# Splitting the human dataset into the training set and test set\n",
    "from sklearn.model_selection import train_test_split\n",
    "X_train, X_test, y_train, y_test = train_test_split(X, \n",
    "                                                    y_data, \n",
    "                                                    test_size = 0.20, \n",
    "                                                    random_state=42)"
   ]
  },
  {
   "cell_type": "code",
   "execution_count": 29,
   "metadata": {},
   "outputs": [
    {
     "name": "stdout",
     "output_type": "stream",
     "text": [
      "(3504, 232414)\n",
      "(876, 232414)\n"
     ]
    }
   ],
   "source": [
    "print(X_train.shape)\n",
    "print(X_test.shape)"
   ]
  },
  {
   "cell_type": "markdown",
   "metadata": {},
   "source": [
    "### A multinomial naive Bayes classifier will be created. I previously did some parameter tuning and found the ngram size of 4 (reflected in the Countvectorizer() instance) and a model alpha of 0.1 did the best.¶"
   ]
  },
  {
   "cell_type": "code",
   "execution_count": 30,
   "metadata": {},
   "outputs": [
    {
     "data": {
      "text/plain": [
       "MultinomialNB(alpha=0.1)"
      ]
     },
     "execution_count": 30,
     "metadata": {},
     "output_type": "execute_result"
    }
   ],
   "source": [
    "### Multinomial Naive Bayes Classifier ###\n",
    "# The alpha parameter was determined by grid search previously\n",
    "from sklearn.naive_bayes import MultinomialNB\n",
    "classifier = MultinomialNB(alpha=0.1)\n",
    "classifier.fit(X_train, y_train)"
   ]
  },
  {
   "cell_type": "code",
   "execution_count": 31,
   "metadata": {},
   "outputs": [],
   "source": [
    "y_pred = classifier.predict(X_test)"
   ]
  },
  {
   "cell_type": "markdown",
   "metadata": {},
   "source": [
    "#### Okay, so let's look at some model performce metrics like the confusion matrix, accuracy, precision, recall and f1 score. We are getting really good results on our unseen data, so it looks like our model did not overfit to the training data. In a real project I would go back and sample many more train test splits since we have a relatively small data set"
   ]
  },
  {
   "cell_type": "code",
   "execution_count": 32,
   "metadata": {},
   "outputs": [
    {
     "name": "stdout",
     "output_type": "stream",
     "text": [
      "Confusion matrix\n",
      "\n",
      "Predicted   0    1   2    3    4   5    6\n",
      "Actual                                   \n",
      "0          99    0   0    0    1   0    2\n",
      "1           0  104   0    0    0   0    2\n",
      "2           0    0  78    0    0   0    0\n",
      "3           0    0   0  124    0   0    1\n",
      "4           1    0   0    0  143   0    5\n",
      "5           0    0   0    0    0  51    0\n",
      "6           1    0   0    1    0   0  263\n",
      "accuracy = 0.984 \n",
      "precision = 0.984 \n",
      "recall = 0.984 \n",
      "f1 = 0.984\n"
     ]
    }
   ],
   "source": [
    "from sklearn.metrics import accuracy_score, f1_score, precision_score, recall_score\n",
    "print(\"Confusion matrix\\n\")\n",
    "print(pd.crosstab(pd.Series(y_test, name='Actual'), pd.Series(y_pred, name='Predicted')))\n",
    "def get_metrics(y_test, y_predicted):\n",
    "    accuracy = accuracy_score(y_test, y_predicted)\n",
    "    precision = precision_score(y_test, y_predicted, average='weighted')\n",
    "    recall = recall_score(y_test, y_predicted, average='weighted')\n",
    "    f1 = f1_score(y_test, y_predicted, average='weighted')\n",
    "    return accuracy, precision, recall, f1\n",
    "accuracy, precision, recall, f1 = get_metrics(y_test, y_pred)\n",
    "print(\"accuracy = %.3f \\nprecision = %.3f \\nrecall = %.3f \\nf1 = %.3f\" % (accuracy, precision, recall, f1))"
   ]
  },
  {
   "cell_type": "code",
   "execution_count": null,
   "metadata": {},
   "outputs": [],
   "source": []
  }
 ],
 "metadata": {
  "kernelspec": {
   "display_name": "Python 3",
   "language": "python",
   "name": "python3"
  },
  "language_info": {
   "codemirror_mode": {
    "name": "ipython",
    "version": 3
   },
   "file_extension": ".py",
   "mimetype": "text/x-python",
   "name": "python",
   "nbconvert_exporter": "python",
   "pygments_lexer": "ipython3",
   "version": "3.8.3"
  }
 },
 "nbformat": 4,
 "nbformat_minor": 4
}
